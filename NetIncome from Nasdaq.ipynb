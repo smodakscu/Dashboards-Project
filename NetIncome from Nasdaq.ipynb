{
 "cells": [
  {
   "cell_type": "code",
   "execution_count": 1,
   "metadata": {
    "collapsed": true
   },
   "outputs": [],
   "source": [
    "from bs4 import BeautifulSoup\n",
    "import urllib.request\n",
    "import re\n",
    "import csv\n",
    "# tickers for four institutions having high number of customer complaints for example: Bank of America - BAC\n",
    "tickers = [\"BAC\",\"FCF\", \"C\",\"WFC\"]"
   ]
  },
  {
   "cell_type": "code",
   "execution_count": 2,
   "metadata": {
    "collapsed": true
   },
   "outputs": [],
   "source": [
    "def findNetIncome(year,sym):\n",
    "    url =  \"http://www.nasdaq.com/symbol/\"+sym+\"/financials\"\n",
    "    #print (url)\n",
    "    html = urllib.request.urlopen(url)\n",
    "    html_txt= html.read()\n",
    "\n",
    "    soup = BeautifulSoup(html_txt,'html.parser')\n",
    "    th1 = soup.find_all( \"thead\")\n",
    "    table = th1[0].parent\n",
    "    #Finding the profit/ Net Income attribute\n",
    "    s1 = soup.find('th', text ='Net Income')\n",
    "    s1_parent = s1.parent\n",
    "    s2 = soup.find('th', text =  re.compile(year))\n",
    "    s2_parent = s2.parent\n",
    "\n",
    "    \n",
    "    for child1,child2 in zip(s1_parent.children, s2_parent.children):\n",
    "        if year in child2.string:\n",
    "            \n",
    "            #print (child1.string, child2.string)\n",
    "            print (sym, ';',child1.string)\n",
    "            \n",
    "    \n",
    "    return"
   ]
  },
  {
   "cell_type": "code",
   "execution_count": 3,
   "metadata": {
    "collapsed": false
   },
   "outputs": [
    {
     "name": "stdout",
     "output_type": "stream",
     "text": [
      "BAC ; $15,836,000\n",
      "FCF ; $50,143\n",
      "C ; $17,242,000\n",
      "WFC ; $22,894,000\n"
     ]
    }
   ],
   "source": [
    "for sym in tickers:\n",
    "    findNetIncome(\"2015\", sym)"
   ]
  },
  {
   "cell_type": "code",
   "execution_count": null,
   "metadata": {
    "collapsed": true
   },
   "outputs": [],
   "source": []
  }
 ],
 "metadata": {
  "kernelspec": {
   "display_name": "Python 3",
   "language": "python",
   "name": "python3"
  },
  "language_info": {
   "codemirror_mode": {
    "name": "ipython",
    "version": 3
   },
   "file_extension": ".py",
   "mimetype": "text/x-python",
   "name": "python",
   "nbconvert_exporter": "python",
   "pygments_lexer": "ipython3",
   "version": "3.6.0"
  }
 },
 "nbformat": 4,
 "nbformat_minor": 2
}
